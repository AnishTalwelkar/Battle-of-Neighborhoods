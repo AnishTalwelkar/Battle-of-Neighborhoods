{
 "cells": [
  {
   "cell_type": "markdown",
   "metadata": {},
   "source": [
    "# BATTLE OF NEIGHBORHOODS"
   ]
  },
  {
   "cell_type": "markdown",
   "metadata": {},
   "source": [
    "#### This notebook contains the introduction and problem statement for my Coursera Capstone Project."
   ]
  },
  {
   "cell_type": "markdown",
   "metadata": {},
   "source": [
    "## Problem Description:"
   ]
  },
  {
   "cell_type": "markdown",
   "metadata": {},
   "source": [
    "The given capstone project problem statement has the following scenario.\n",
    "An individual lives in the eastern part of Toronto city in Cannada. The neighboorhood in which this person lives in is a perfect and ideal place, bustling with life and joy. The area is also filled with amenities such as cafes, parks, schools, hospitals etc. Fortunatly or unfortunatly, this person gets a job on the opposite side of the city. So, he has to move to a location near to his workplace. \n",
    "Wouldn't it be great if he/she would be able to determine neighborhoods on the other side of the city that are the same as his/her current neighborhood, and if not perhaps similar neighborhoods that are at least closer to his/her new job?"
   ]
  },
  {
   "cell_type": "markdown",
   "metadata": {},
   "source": [
    "### AIM:"
   ]
  },
  {
   "cell_type": "markdown",
   "metadata": {},
   "source": [
    "The objective of this project is to analyze and cluster the neighborhoods of Toronto to gain meaningful information. The clusters will help us find what neighborhoods are quite similar to our current neighborhood, so that we can move there. "
   ]
  },
  {
   "cell_type": "markdown",
   "metadata": {},
   "source": [
    "### TARGET AUDIENCE:"
   ]
  },
  {
   "cell_type": "markdown",
   "metadata": {},
   "source": [
    "This project can be useful for anyone who is finding a similar place to live once he/she has relocated, as the one he/she is staying currently. "
   ]
  },
  {
   "cell_type": "markdown",
   "metadata": {},
   "source": [
    "## DATA:"
   ]
  },
  {
   "cell_type": "markdown",
   "metadata": {},
   "source": [
    "#### Neighborhood Data:"
   ]
  },
  {
   "cell_type": "markdown",
   "metadata": {},
   "source": [
    "Here, the data is in the form of a wikipedia page consisting of the postal codes of the city of Toronto.\n",
    "\n",
    "Following is the link : https://en.wikipedia.org/wiki/List_of_postal_codes_of_Canada:_M\n",
    "\n"
   ]
  },
  {
   "cell_type": "markdown",
   "metadata": {},
   "source": [
    "#### Coordinates:"
   ]
  },
  {
   "cell_type": "markdown",
   "metadata": {},
   "source": [
    "The following link gives us the coordinates of every postal code in Toronto:\n",
    "\n",
    " http://cocl.us/Geospatial_data"
   ]
  },
  {
   "cell_type": "code",
   "execution_count": null,
   "metadata": {},
   "outputs": [],
   "source": []
  }
 ],
 "metadata": {
  "kernelspec": {
   "display_name": "Python 3",
   "language": "python",
   "name": "python3"
  },
  "language_info": {
   "codemirror_mode": {
    "name": "ipython",
    "version": 3
   },
   "file_extension": ".py",
   "mimetype": "text/x-python",
   "name": "python",
   "nbconvert_exporter": "python",
   "pygments_lexer": "ipython3",
   "version": "3.7.6"
  }
 },
 "nbformat": 4,
 "nbformat_minor": 4
}
